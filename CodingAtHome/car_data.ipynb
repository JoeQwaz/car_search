{
 "cells": [
  {
   "cell_type": "code",
   "execution_count": 3,
   "metadata": {},
   "outputs": [],
   "source": [
    "import pandas as pd\n",
    "from craigslist import CraigslistForSale\n",
    "from selenium import webdriver\n",
    "from selenium.webdriver.support.ui import WebDriverWait\n",
    "from selenium.webdriver.support import expected_conditions as EC\n",
    "from selenium.webdriver.common.by import By\n",
    "from selenium.webdriver.common.keys import Keys\n",
    "import pandas as pd\n",
    "import time \n",
    "from datetime import datetime "
   ]
  },
  {
   "cell_type": "code",
   "execution_count": 7,
   "metadata": {},
   "outputs": [
    {
     "ename": "NoSuchElementException",
     "evalue": "Message: no such element: Unable to locate element: {\"method\":\"xpath\",\"selector\":\".//span[@class = \"oi732d6d ik7dh3pa d2edcug0 qv66sw1b c1et5uql sx4j0amd a8c37x1j hddg9phg ew0dbk1b o0t2es00 f530mmz5 hnhda86s oo9gr5id\"]\"}\n  (Session info: chrome=81.0.4044.129)\n",
     "output_type": "error",
     "traceback": [
      "\u001b[0;31m---------------------------------------------------------------------------\u001b[0m",
      "\u001b[0;31mNoSuchElementException\u001b[0m                    Traceback (most recent call last)",
      "\u001b[0;32m<ipython-input-7-cdbd1b85b954>\u001b[0m in \u001b[0;36m<module>\u001b[0;34m\u001b[0m\n\u001b[1;32m     59\u001b[0m \u001b[0;34m\u001b[0m\u001b[0m\n\u001b[1;32m     60\u001b[0m         \u001b[0mtime\u001b[0m\u001b[0;34m.\u001b[0m\u001b[0msleep\u001b[0m\u001b[0;34m(\u001b[0m\u001b[0;36m2\u001b[0m\u001b[0;34m)\u001b[0m\u001b[0;34m\u001b[0m\u001b[0;34m\u001b[0m\u001b[0m\n\u001b[0;32m---> 61\u001b[0;31m         \u001b[0mcarName\u001b[0m \u001b[0;34m=\u001b[0m \u001b[0mdriver\u001b[0m\u001b[0;34m.\u001b[0m\u001b[0mfind_element_by_xpath\u001b[0m\u001b[0;34m(\u001b[0m\u001b[0;34m'.//span[@class = \"oi732d6d ik7dh3pa d2edcug0 qv66sw1b c1et5uql sx4j0amd a8c37x1j hddg9phg ew0dbk1b o0t2es00 f530mmz5 hnhda86s oo9gr5id\"]'\u001b[0m\u001b[0;34m)\u001b[0m\u001b[0;34m\u001b[0m\u001b[0;34m\u001b[0m\u001b[0m\n\u001b[0m\u001b[1;32m     62\u001b[0m \u001b[0;34m\u001b[0m\u001b[0m\n\u001b[1;32m     63\u001b[0m         \u001b[0mtime\u001b[0m\u001b[0;34m.\u001b[0m\u001b[0msleep\u001b[0m\u001b[0;34m(\u001b[0m\u001b[0;36m2\u001b[0m\u001b[0;34m)\u001b[0m\u001b[0;34m\u001b[0m\u001b[0;34m\u001b[0m\u001b[0m\n",
      "\u001b[0;32m/Library/Frameworks/Python.framework/Versions/3.8/lib/python3.8/site-packages/selenium/webdriver/remote/webdriver.py\u001b[0m in \u001b[0;36mfind_element_by_xpath\u001b[0;34m(self, xpath)\u001b[0m\n\u001b[1;32m    392\u001b[0m             \u001b[0melement\u001b[0m \u001b[0;34m=\u001b[0m \u001b[0mdriver\u001b[0m\u001b[0;34m.\u001b[0m\u001b[0mfind_element_by_xpath\u001b[0m\u001b[0;34m(\u001b[0m\u001b[0;34m'//div/td[1]'\u001b[0m\u001b[0;34m)\u001b[0m\u001b[0;34m\u001b[0m\u001b[0;34m\u001b[0m\u001b[0m\n\u001b[1;32m    393\u001b[0m         \"\"\"\n\u001b[0;32m--> 394\u001b[0;31m         \u001b[0;32mreturn\u001b[0m \u001b[0mself\u001b[0m\u001b[0;34m.\u001b[0m\u001b[0mfind_element\u001b[0m\u001b[0;34m(\u001b[0m\u001b[0mby\u001b[0m\u001b[0;34m=\u001b[0m\u001b[0mBy\u001b[0m\u001b[0;34m.\u001b[0m\u001b[0mXPATH\u001b[0m\u001b[0;34m,\u001b[0m \u001b[0mvalue\u001b[0m\u001b[0;34m=\u001b[0m\u001b[0mxpath\u001b[0m\u001b[0;34m)\u001b[0m\u001b[0;34m\u001b[0m\u001b[0;34m\u001b[0m\u001b[0m\n\u001b[0m\u001b[1;32m    395\u001b[0m \u001b[0;34m\u001b[0m\u001b[0m\n\u001b[1;32m    396\u001b[0m     \u001b[0;32mdef\u001b[0m \u001b[0mfind_elements_by_xpath\u001b[0m\u001b[0;34m(\u001b[0m\u001b[0mself\u001b[0m\u001b[0;34m,\u001b[0m \u001b[0mxpath\u001b[0m\u001b[0;34m)\u001b[0m\u001b[0;34m:\u001b[0m\u001b[0;34m\u001b[0m\u001b[0;34m\u001b[0m\u001b[0m\n",
      "\u001b[0;32m/Library/Frameworks/Python.framework/Versions/3.8/lib/python3.8/site-packages/selenium/webdriver/remote/webdriver.py\u001b[0m in \u001b[0;36mfind_element\u001b[0;34m(self, by, value)\u001b[0m\n\u001b[1;32m    974\u001b[0m                 \u001b[0mby\u001b[0m \u001b[0;34m=\u001b[0m \u001b[0mBy\u001b[0m\u001b[0;34m.\u001b[0m\u001b[0mCSS_SELECTOR\u001b[0m\u001b[0;34m\u001b[0m\u001b[0;34m\u001b[0m\u001b[0m\n\u001b[1;32m    975\u001b[0m                 \u001b[0mvalue\u001b[0m \u001b[0;34m=\u001b[0m \u001b[0;34m'[name=\"%s\"]'\u001b[0m \u001b[0;34m%\u001b[0m \u001b[0mvalue\u001b[0m\u001b[0;34m\u001b[0m\u001b[0;34m\u001b[0m\u001b[0m\n\u001b[0;32m--> 976\u001b[0;31m         return self.execute(Command.FIND_ELEMENT, {\n\u001b[0m\u001b[1;32m    977\u001b[0m             \u001b[0;34m'using'\u001b[0m\u001b[0;34m:\u001b[0m \u001b[0mby\u001b[0m\u001b[0;34m,\u001b[0m\u001b[0;34m\u001b[0m\u001b[0;34m\u001b[0m\u001b[0m\n\u001b[1;32m    978\u001b[0m             'value': value})['value']\n",
      "\u001b[0;32m/Library/Frameworks/Python.framework/Versions/3.8/lib/python3.8/site-packages/selenium/webdriver/remote/webdriver.py\u001b[0m in \u001b[0;36mexecute\u001b[0;34m(self, driver_command, params)\u001b[0m\n\u001b[1;32m    319\u001b[0m         \u001b[0mresponse\u001b[0m \u001b[0;34m=\u001b[0m \u001b[0mself\u001b[0m\u001b[0;34m.\u001b[0m\u001b[0mcommand_executor\u001b[0m\u001b[0;34m.\u001b[0m\u001b[0mexecute\u001b[0m\u001b[0;34m(\u001b[0m\u001b[0mdriver_command\u001b[0m\u001b[0;34m,\u001b[0m \u001b[0mparams\u001b[0m\u001b[0;34m)\u001b[0m\u001b[0;34m\u001b[0m\u001b[0;34m\u001b[0m\u001b[0m\n\u001b[1;32m    320\u001b[0m         \u001b[0;32mif\u001b[0m \u001b[0mresponse\u001b[0m\u001b[0;34m:\u001b[0m\u001b[0;34m\u001b[0m\u001b[0;34m\u001b[0m\u001b[0m\n\u001b[0;32m--> 321\u001b[0;31m             \u001b[0mself\u001b[0m\u001b[0;34m.\u001b[0m\u001b[0merror_handler\u001b[0m\u001b[0;34m.\u001b[0m\u001b[0mcheck_response\u001b[0m\u001b[0;34m(\u001b[0m\u001b[0mresponse\u001b[0m\u001b[0;34m)\u001b[0m\u001b[0;34m\u001b[0m\u001b[0;34m\u001b[0m\u001b[0m\n\u001b[0m\u001b[1;32m    322\u001b[0m             response['value'] = self._unwrap_value(\n\u001b[1;32m    323\u001b[0m                 response.get('value', None))\n",
      "\u001b[0;32m/Library/Frameworks/Python.framework/Versions/3.8/lib/python3.8/site-packages/selenium/webdriver/remote/errorhandler.py\u001b[0m in \u001b[0;36mcheck_response\u001b[0;34m(self, response)\u001b[0m\n\u001b[1;32m    240\u001b[0m                 \u001b[0malert_text\u001b[0m \u001b[0;34m=\u001b[0m \u001b[0mvalue\u001b[0m\u001b[0;34m[\u001b[0m\u001b[0;34m'alert'\u001b[0m\u001b[0;34m]\u001b[0m\u001b[0;34m.\u001b[0m\u001b[0mget\u001b[0m\u001b[0;34m(\u001b[0m\u001b[0;34m'text'\u001b[0m\u001b[0;34m)\u001b[0m\u001b[0;34m\u001b[0m\u001b[0;34m\u001b[0m\u001b[0m\n\u001b[1;32m    241\u001b[0m             \u001b[0;32mraise\u001b[0m \u001b[0mexception_class\u001b[0m\u001b[0;34m(\u001b[0m\u001b[0mmessage\u001b[0m\u001b[0;34m,\u001b[0m \u001b[0mscreen\u001b[0m\u001b[0;34m,\u001b[0m \u001b[0mstacktrace\u001b[0m\u001b[0;34m,\u001b[0m \u001b[0malert_text\u001b[0m\u001b[0;34m)\u001b[0m\u001b[0;34m\u001b[0m\u001b[0;34m\u001b[0m\u001b[0m\n\u001b[0;32m--> 242\u001b[0;31m         \u001b[0;32mraise\u001b[0m \u001b[0mexception_class\u001b[0m\u001b[0;34m(\u001b[0m\u001b[0mmessage\u001b[0m\u001b[0;34m,\u001b[0m \u001b[0mscreen\u001b[0m\u001b[0;34m,\u001b[0m \u001b[0mstacktrace\u001b[0m\u001b[0;34m)\u001b[0m\u001b[0;34m\u001b[0m\u001b[0;34m\u001b[0m\u001b[0m\n\u001b[0m\u001b[1;32m    243\u001b[0m \u001b[0;34m\u001b[0m\u001b[0m\n\u001b[1;32m    244\u001b[0m     \u001b[0;32mdef\u001b[0m \u001b[0m_value_or_default\u001b[0m\u001b[0;34m(\u001b[0m\u001b[0mself\u001b[0m\u001b[0;34m,\u001b[0m \u001b[0mobj\u001b[0m\u001b[0;34m,\u001b[0m \u001b[0mkey\u001b[0m\u001b[0;34m,\u001b[0m \u001b[0mdefault\u001b[0m\u001b[0;34m)\u001b[0m\u001b[0;34m:\u001b[0m\u001b[0;34m\u001b[0m\u001b[0;34m\u001b[0m\u001b[0m\n",
      "\u001b[0;31mNoSuchElementException\u001b[0m: Message: no such element: Unable to locate element: {\"method\":\"xpath\",\"selector\":\".//span[@class = \"oi732d6d ik7dh3pa d2edcug0 qv66sw1b c1et5uql sx4j0amd a8c37x1j hddg9phg ew0dbk1b o0t2es00 f530mmz5 hnhda86s oo9gr5id\"]\"}\n  (Session info: chrome=81.0.4044.129)\n"
     ]
    }
   ],
   "source": [
    "#Importing Craigslist Data\n",
    "locations = ['hudsonvalley','richmond','newyork','longisland','baltimore']\n",
    "\n",
    "def craigslist(x):\n",
    "    cldata = pd.DataFrame([])\n",
    "    for i in locations:\n",
    "        cl = CraigslistForSale(site= i , category='cta',                         \n",
    "                 filters={'search_distance': 500, 'max_price': 4000, 'min_price': 500, 'max_miles': 150000, 'min_year':2008})\n",
    "        results = cl.get_results(sort_by='newest', geotagged=True, limit=10000)\n",
    "        cars = []\n",
    "        for result in results:\n",
    "            cars.append([result['id'],result['repost_of'],result['name'],result['url'],result['datetime'],\n",
    "                         result['last_updated'],result['price'],result['where'],result['has_image'],result['geotag']])\n",
    "            #df = pd.DataFrame(cars)\n",
    "            cldata = cldata.append(pd.DataFrame(cars))\n",
    "    return cldata\n",
    "\n",
    "car = craigslist(locations)\n",
    "\n",
    "clist = car.rename(columns={0:'id', 1:'repost_of', 2:'name', 3:'url',\n",
    "                   4:'datetime', 5:'last_updated', 6:'price',7:'location',\n",
    "                   8:'has_image',9:'geotag',10:'miles'})\n",
    "clist['mileage'] = \"\"\n",
    "clist['trans'] = \"\"\n",
    "clist['source'] = \"Craigslist\"\n",
    "\n",
    "clist_df = clist[['name', 'mileage', 'location', 'trans', 'price','url','source']]\n",
    "clist_df = clist_df.drop_duplicates()\n",
    "\n",
    "#Importing Facebook Data\n",
    "\n",
    "make = ['Subaru+Impreza','Subaru+Legacy','Toyota+Tacoma']\n",
    "\n",
    "fbdata = pd.DataFrame([])\n",
    "for x in make:\n",
    "    driver = webdriver.Chrome(executable_path = '/Users/josephnarsingh/Downloads/drivers/chromedriver')\n",
    "    #str1 = 'https://www.facebook.com/marketplace/104034386298713/vehicles/?minPrice=500&maxPrice=4000&sortBy=distance_ascend&exact=false'\n",
    "    #str2 = '4000'\n",
    "    #str3 = '&ref-bookmark&minVehicleYear=2007&maxVehicleYear=20188maxVehicleMileage=130000&vehicleIsManualTransmission=0'\n",
    "    #url = str1 + str3\n",
    "    str1 =  'https://www.facebook.com/marketplace/104061769629817/search/?minPrice=500&maxPrice=4000&maxMileage=150000&minYear=2005&query='\n",
    "    str2 = x\n",
    "    str3 = '&category_id=vehicles&exact=false'\n",
    "    url = str1+str2+str3\n",
    "    driver.get(url)\n",
    "    time.sleep(2)\n",
    "    ids = driver.find_elements_by_xpath(\"//a[contains(@href,'/marketplace/item/')]\")\n",
    "    n = 10\n",
    "    links = ()\n",
    "    for ii in ids [ :n]:\n",
    "        links+=(ii.get_attribute('href'),)\n",
    "\n",
    "    datalist = []\n",
    "\n",
    "    time.sleep(5)\n",
    "\n",
    "    for link in links:\n",
    "        driver.get(link)\n",
    "\n",
    "        time.sleep(2)\n",
    "        carName = driver.find_element_by_xpath('.//span[@class = \"oi732d6d ik7dh3pa d2edcug0 qv66sw1b c1et5uql sx4j0amd a8c37x1j hddg9phg ew0dbk1b o0t2es00 f530mmz5 hnhda86s oo9gr5id\"]')  \n",
    "\n",
    "        time.sleep(2)\n",
    "        Loc = driver.find_element_by_xpath('.//span[@class = \"oi732d6d ik7dh3pa d2edcug0 qv66sw1b c1et5uql e9vueds3 j5wam9gi knj5qynh m9osqain\"]')\n",
    "\n",
    "        time.sleep(2)\n",
    "        price = driver.find_element_by_xpath('.//span[@class = \"oi732d6d ik7dh3pa d2edcug0 qv66sw1b c1et5uql a8c37x1j muag1w35 enqfppq2 a5q79mjw g1cxx5fr lrazzd5p oo9gr5id\"]') \n",
    "\n",
    "        time.sleep(2)\n",
    "        miles = driver.find_elements_by_xpath('.//span[@class = \"oi732d6d ik7dh3pa d2edcug0 qv66sw1b c1et5uql a8c37x1j muag1w35 enqfppq2 jq4qci2q a3bd9o3v knj5qynh oo9gr5id\"]')\n",
    "\n",
    "        name = carName.text\n",
    "        location = Loc.text\n",
    "        cost = price.text\n",
    "        mileage = miles[1].text\n",
    "        trans = miles[2].text\n",
    "\n",
    "        #desc = driver.find_elements_by_xpath('.//span[@class = \"oi732d6d ik7dh3pa d2edcug0 qv66sw1b c1et5uql a8c37x1j muag1w35 enqfppq2 jq4qci2q a3bd9o3v knj5qynh oo9gr5id\"]]').text\n",
    "\n",
    "        df_text = [name, location, cost, mileage, trans, link] \n",
    "        datalist.append((name, mileage, location, trans, cost, link))\n",
    "        fbdata = fbdata.append(pd.DataFrame(datalist))\n",
    "        ColName= ['name', 'mileage', 'location', 'trans', 'price', 'url']\n",
    "        fb_df = fbdata.rename(columns = {0:'name', 1:'mileage', 2:'location', 3:'trans', 4:'price', 5:'url'})\n",
    "        fb_df['source'] = 'Facebook'\n",
    "        fb_df = fb_df.drop_duplicates()\n",
    "    driver.close()\n",
    "\n",
    "\n",
    "df = pd.concat([clist_df, fb_df])"
   ]
  },
  {
   "cell_type": "code",
   "execution_count": 6,
   "metadata": {},
   "outputs": [
    {
     "ename": "NameError",
     "evalue": "name 'df' is not defined",
     "output_type": "error",
     "traceback": [
      "\u001b[0;31m---------------------------------------------------------------------------\u001b[0m",
      "\u001b[0;31mNameError\u001b[0m                                 Traceback (most recent call last)",
      "\u001b[0;32m<ipython-input-6-00cf07b74dcd>\u001b[0m in \u001b[0;36m<module>\u001b[0;34m\u001b[0m\n\u001b[0;32m----> 1\u001b[0;31m \u001b[0mdf\u001b[0m\u001b[0;34m\u001b[0m\u001b[0;34m\u001b[0m\u001b[0m\n\u001b[0m",
      "\u001b[0;31mNameError\u001b[0m: name 'df' is not defined"
     ]
    }
   ],
   "source": [
    "df"
   ]
  },
  {
   "cell_type": "code",
   "execution_count": null,
   "metadata": {},
   "outputs": [],
   "source": []
  }
 ],
 "metadata": {
  "kernelspec": {
   "display_name": "Python 3",
   "language": "python",
   "name": "python3"
  },
  "language_info": {
   "codemirror_mode": {
    "name": "ipython",
    "version": 3
   },
   "file_extension": ".py",
   "mimetype": "text/x-python",
   "name": "python",
   "nbconvert_exporter": "python",
   "pygments_lexer": "ipython3",
   "version": "3.8.2"
  }
 },
 "nbformat": 4,
 "nbformat_minor": 4
}
